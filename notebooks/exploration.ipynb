{
 "cells": [
  {
   "cell_type": "markdown",
   "id": "8e2b5e97",
   "metadata": {},
   "source": [
    "# Exploration Notebook\n",
    "Initial prototyping: embeddings, retrieval, prompt tests. Fill during experimentation."
   ]
  }
 ],
 "metadata": {
  "language_info": {
   "name": "python"
  }
 },
 "nbformat": 4,
 "nbformat_minor": 5
}
